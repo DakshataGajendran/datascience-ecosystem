{
 "cells": [
  {
   "cell_type": "markdown",
   "id": "ff99dcac",
   "metadata": {},
   "source": [
    "# Data Science Tools and Ecosystem"
   ]
  },
  {
   "cell_type": "markdown",
   "id": "52ad7cab",
   "metadata": {},
   "source": [
    "## Introduction\n",
    "In this notebook, Data Science Tools and Ecosystem are summarized"
   ]
  },
  {
   "cell_type": "markdown",
   "id": "ce24ee5f",
   "metadata": {},
   "source": [
    "## Data Science Languages\n",
    "Here are some of the most widely used programming languages in data science:\n",
    "- Python\n",
    "- R\n",
    "- SQL\n",
    "- Julia\n",
    "- Scala\n"
   ]
  },
  {
   "cell_type": "markdown",
   "id": "00de07c0",
   "metadata": {},
   "source": [
    "## Data Science Libraries\n",
    "Common libraries used in data science:\n",
    "- NumPy\n",
    "- Pandas\n",
    "- Matplotlib\n",
    "- Scikit-learn\n",
    "- TensorFlow\n"
   ]
  },
  {
   "cell_type": "markdown",
   "id": "2a504afb",
   "metadata": {},
   "source": [
    "## Data Science Tools\n",
    "\n",
    "| Tool         | Description                        |\n",
    "|--------------|------------------------------------|\n",
    "| Jupyter      | Interactive coding environment     |\n",
    "| RStudio      | IDE for R                          |\n",
    "| TensorFlow   | Machine learning library           |\n",
    "| Apache Spark | Big data processing tool           |\n",
    "| Excel        | Spreadsheet tool for data analysis |\n"
   ]
  },
  {
   "cell_type": "markdown",
   "id": "b58e6c53",
   "metadata": {},
   "source": [
    "## Arithmetic Expression Examples\n",
    "Below are examples of how to perform basic arithmetic operations in Python.\n",
    "\n"
   ]
  },
  {
   "cell_type": "markdown",
   "id": "bb703a62",
   "metadata": {},
   "source": [
    " #This a simple arithmetic expression to mutiply then add integers"
   ]
  },
  {
   "cell_type": "code",
   "execution_count": 1,
   "id": "1d62ba46",
   "metadata": {},
   "outputs": [
    {
     "data": {
      "text/plain": [
       "17"
      ]
     },
     "execution_count": 1,
     "metadata": {},
     "output_type": "execute_result"
    }
   ],
   "source": [
    "(3*4)+5"
   ]
  },
  {
   "cell_type": "markdown",
   "id": "4475ed40",
   "metadata": {},
   "source": [
    "# Convert minutes to hours\n",
    "This will convert 200 minutes to hours by diving by 60\n"
   ]
  },
  {
   "cell_type": "code",
   "execution_count": 2,
   "id": "45245da6",
   "metadata": {},
   "outputs": [
    {
     "data": {
      "text/plain": [
       "33.333333333333336"
      ]
     },
     "execution_count": 2,
     "metadata": {},
     "output_type": "execute_result"
    }
   ],
   "source": [
    "minutes = 2000\n",
    "hours = minutes / 60\n",
    "hours\n"
   ]
  },
  {
   "cell_type": "markdown",
   "id": "409324a7",
   "metadata": {},
   "source": [
    "## Objectives\n",
    "- Understand common data science languages.\n",
    "- Familiarize yourself with popular data science libraries.\n",
    "- Learn to perform basic arithmetic operations using Python.\n",
    "- Explore commonly used tools in the data science workflow.\n"
   ]
  },
  {
   "cell_type": "markdown",
   "id": "3f3025f9",
   "metadata": {},
   "source": [
    "## Author\n",
    "Dakshata G\n"
   ]
  },
  {
   "cell_type": "code",
   "execution_count": null,
   "id": "6c3fe8d7",
   "metadata": {},
   "outputs": [],
   "source": []
  }
 ],
 "metadata": {
  "kernelspec": {
   "display_name": "Python 3 (ipykernel)",
   "language": "python",
   "name": "python3"
  },
  "language_info": {
   "codemirror_mode": {
    "name": "ipython",
    "version": 3
   },
   "file_extension": ".py",
   "mimetype": "text/x-python",
   "name": "python",
   "nbconvert_exporter": "python",
   "pygments_lexer": "ipython3",
   "version": "3.11.3"
  }
 },
 "nbformat": 4,
 "nbformat_minor": 5
}
